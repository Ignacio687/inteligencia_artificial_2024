{
 "cells": [
  {
   "cell_type": "markdown",
   "metadata": {},
   "source": [
    "## 5. Armamos datos de entrenamiento y testeo\n",
    "\n",
    "Para avanzar en la práctica de regresión lineal tomaremos el dataset de `X,y`.\n",
    "Los pasos para implementar una regresión son:\n",
    "1. Preprocesar los datos (si es necesario normalizar o estandarizar).\n",
    "2. Separar los datos en conjuntos de `train`, `test` y `validation`.\n",
    "3. Elegimos el modelo a utilizar.\n",
    "4. Entrenamos el modelo.\n",
    "5. Evaluamos el modelo.\n",
    "6. Ajustamos el modelo (en caso de ser necesario).\n",
    "7. Repetimos el paso 5 y 6 hasta lograr métricas que nos satisfagan.\n",
    "8. Realizamos predicciones con datos nuevos."
   ]
  },
  {
   "cell_type": "code",
   "execution_count": null,
   "metadata": {},
   "outputs": [],
   "source": [
    "#para esto importamos scikit-learn que posee una función para separar los datos de forma ordenada\n",
    "from sklearn.model_selection import train_test_split\n",
    "Xtrain, Xtest, ytrain, ytest = train_test_split(X, y, test_size=0.2, random_state=42)\n",
    "print(f\"Xtrain length: {len(Xtrain)}, ytrain length: {len(ytrain)}\")\n",
    "print(f\"Xtest length: {len(Xtest)}, ytest length: {len(ytest)}\")"
   ]
  },
  {
   "cell_type": "markdown",
   "metadata": {},
   "source": [
    "## 3. Analizamos el dataset\n",
    "\n",
    "Para esto analizaremos las siguientes características:\n",
    "\n",
    "1. Normalidad de los datos.\n",
    "2. Como se distribuyen.\n",
    "3. Correlación"
   ]
  },
  {
   "cell_type": "code",
   "execution_count": null,
   "metadata": {},
   "outputs": [],
   "source": [
    "# Normalidad la calculamos usando el test de Shapiro-Wilk\n",
    "from scipy.stats import shapiro\n",
    "normalidad_X = shapiro(X) #evaluamos normalidad de los datos de X\n",
    "normalidad_y = shapiro(y) #evaluamos normalidad de los datos de y\n",
    "\n",
    "print(f\"Normalidad de X: {normalidad_X}\")\n",
    "print(f\"Normalidad de y: {normalidad_y}\")"
   ]
  },
  {
   "cell_type": "markdown",
   "metadata": {},
   "source": [
    ">**Nota:** vemos que para ambos conjuntos de datos X e y, el p-value es < 0.05 por lo cual se rechaza la hipotesis nula (H0) de que se distribuyen de forma normal. Habría que analizar que \"otra forma de distribución pueden tener\". Esto se los dejo para que vean como la estadística es importante. Al saber que no se distribuyen de forma normal no se puede hacer un teste de correlación de Pearson, pero si tal vez de Kendall...\n"
   ]
  }
 ],
 "metadata": {
  "kernelspec": {
   "display_name": "env",
   "language": "python",
   "name": "python3"
  },
  "language_info": {
   "name": "python",
   "version": "3.11.9"
  }
 },
 "nbformat": 4,
 "nbformat_minor": 2
}
